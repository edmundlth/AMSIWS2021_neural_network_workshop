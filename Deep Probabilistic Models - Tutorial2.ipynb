{
 "cells": [
  {
   "cell_type": "markdown",
   "id": "258f0968-8fda-4ecb-bebd-532f196ea4c6",
   "metadata": {},
   "source": [
    "# Deep Probabilistic Models\n",
    "\n",
    "# Tutorial 2: An Introduction to Pyro and Variational Inference\n",
    "\n",
    "In this tutorial, you will cover some Pyro basics and see two types of model implemented. \n"
   ]
  },
  {
   "cell_type": "markdown",
   "id": "505778c0-f722-4e6c-b6c8-82d6806de20b",
   "metadata": {},
   "source": [
    "Recall, that the general framework for training models via Variational Inference is to solve the problem\n",
    "\n",
    "$$\\arg \\max_{\\boldsymbol{\\phi}, \\boldsymbol{\\theta}}\\mathbb{E}_{q_{\\boldsymbol{\\phi}}}\\big[\\log p_{\\boldsymbol{\\theta}}(\\mathbf{x},\\mathbf{z}) - \\log q_{\\boldsymbol{\\phi}}(\\mathbf{z}|\\mathbf{x}) \\big]$$\n",
    "\n",
    "via (stochastic) gradient methods."
   ]
  },
  {
   "cell_type": "markdown",
   "id": "19068ea4-ab0b-4cfe-b48b-1a3a7c34fdbe",
   "metadata": {},
   "source": [
    "\n",
    "\n",
    "In Pyro: \n",
    "\n",
    "* The `model` function specifies your model, whereas the `guide` function specifies you posterior approximation.\n",
    "* `sample` denotes a random variable in the model (i.e., an element of $\\mathbf{z}$ or $\\mathbf{x}$)\n",
    "   \n",
    "* `param` denotes something you wish to optimize over (i.e., an element of $\\phi$ or $\\theta$). \n",
    "    * All `param` in the model function are elements of $\\theta$\n",
    "    * All `param` in the guide function are elements of $\\phi$\n",
    "\n",
    "* Inputs to the model function denote deterministic things that will **not** be optimized.\n",
    "\n",
    "* `pyro.plate` is used to denote conditional independence"
   ]
  },
  {
   "cell_type": "code",
   "execution_count": 1,
   "id": "675bd51b-bc25-4ee8-852c-ddaa23707c22",
   "metadata": {},
   "outputs": [
    {
     "data": {
      "text/plain": [
       "<torch._C.Generator at 0x7ffe06b6a830>"
      ]
     },
     "execution_count": 1,
     "metadata": {},
     "output_type": "execute_result"
    }
   ],
   "source": [
    "import pyro \n",
    "import torch as t \n",
    "import matplotlib.pyplot as plt \n",
    "t.manual_seed(123)"
   ]
  },
  {
   "cell_type": "markdown",
   "id": "51ea2eba",
   "metadata": {},
   "source": [
    "First, we shall generate some binary-valued data..."
   ]
  },
  {
   "cell_type": "code",
   "execution_count": 2,
   "id": "a8b83b73",
   "metadata": {},
   "outputs": [
    {
     "name": "stdout",
     "output_type": "stream",
     "text": [
      "tensor([1., 1., 1., 0., 1., 0., 1., 1., 1., 0., 1., 0., 1., 1., 1., 1., 1., 0.,\n",
      "        1., 0., 0., 1., 1., 0., 1., 0., 1., 0., 0., 1., 0., 0., 0., 0., 0., 1.,\n",
      "        1., 1., 1., 1., 1., 1., 1., 0., 1., 1., 1., 1., 0., 0., 0., 1., 1., 0.,\n",
      "        1., 1., 1., 0., 1., 1., 1., 0., 1., 1., 1., 1., 1., 1., 1., 0., 0., 0.,\n",
      "        1., 1., 0., 1., 0., 1., 1., 0., 0., 1., 1., 1., 1., 1., 1., 0., 0., 0.,\n",
      "        1., 0., 0., 0., 1., 1., 0., 0., 0., 1.])\n"
     ]
    }
   ],
   "source": [
    "distX = t.distributions.Bernoulli(0.65)\n",
    "x_obs = distX.sample([100])\n",
    "print(x_obs)"
   ]
  },
  {
   "cell_type": "markdown",
   "id": "7abf7ab6",
   "metadata": {},
   "source": [
    "### Beta-Bernoulli Model"
   ]
  },
  {
   "cell_type": "markdown",
   "id": "f9ef2598-a55e-4f25-86bf-8a2235a4802d",
   "metadata": {},
   "source": [
    "We begin with a classic model, a Bernoulli likelihood with a Beta prior. The generative form of the model is\n",
    "\n",
    "$$ p \\sim {\\rm Beta}(1,1)$$\n",
    "\n",
    "$$X_k | p \\sim_{\\rm iid} {\\rm Bernoulli}(p),\\quad k=1,\\ldots,N.$$\n",
    "\n"
   ]
  },
  {
   "cell_type": "markdown",
   "id": "7556cfa2-8a77-4e37-906e-38a78755824f",
   "metadata": {},
   "source": [
    "<img src=\"BerPlate.png\" width=\"400\">"
   ]
  },
  {
   "cell_type": "markdown",
   "id": "33adeb2c",
   "metadata": {},
   "source": [
    "Thus, the variable $p$ which is the parameter of the Bernoulli variable is **latent**. However, we have **observed** $X_1, \\ldots, X_N$ and wish to perform **posterior inference** on $p$, i.e., infer the distribution of $p | X_1, \\ldots, X_N$. \n",
    "\n",
    "\n",
    "The model is implemented in Pyro below. Note that we specify `obs` for `x`, which are the observations. This tells Pyro that ${\\bf X}$ is an observed variable in our directed graphical model.  Note also that we use `pyro.plate` as a **context**. To learn more about *context managers* in Python, have a read [here](https://www.pythontutorial.net/advanced-python/python-context-managers/).  \n",
    "\n"
   ]
  },
  {
   "cell_type": "code",
   "execution_count": 3,
   "id": "3971ab63-8e7f-4791-b5a9-8ffdb11e7ba7",
   "metadata": {},
   "outputs": [],
   "source": [
    "import pyro.distributions as dist\n",
    "import torch  \n",
    "from torch.distributions import constraints\n",
    "\n",
    "def BetaBernoulli():  \n",
    "    # \"sample\" statements put variables in the graphical model\n",
    "    p = pyro.sample('p', dist.Beta(1,1)) \n",
    "    \n",
    "    with pyro.plate(\"data\", x_obs.shape[0]):\n",
    "        x = pyro.sample('x', dist.Bernoulli(probs = p), obs = x_obs)\n",
    "    \n",
    "    return x"
   ]
  },
  {
   "cell_type": "markdown",
   "id": "e545ba7d-bc2c-4419-b248-66b406fd4345",
   "metadata": {},
   "source": [
    "### Bayesian Inference with VI \n",
    "\n",
    "Next, we will perform \"fully Bayesian\" inference over the parameter (as opposed to maximizing the likelihood). To do so, we need to specify the variational family $q_{\\phi}$. In Pyro, anything that provides an approximate posterior is called a `guide` (variational approximations are one example of this, and the main use). One can specify a variational distribution for any `model` in Pyro but creating a `guide` model that gives the generative form of the variational approximation (thus, you can have all types of interesting structure in your approximation if you desire). \n",
    "\n",
    "As $p \\in (0,1)$, we will use the Beta distribution family as our approximation (actually it is a very good one, as it is possible to derive by hand in this case that the posterior over $p$ is actually a Beta distribution! \n",
    "\n",
    "Note that below, we tell Pyro our **variational parameters** (elements of $\\phi$) and the constraints we wish them to have. In the Beta distribution's parametrization, both parameters **must** be positive. This is easy to specify, note below we tell Pyro this. \n",
    "\n",
    "What actually happens in the background is Pyro optimizes over unconstrained space and then transforms the variational parameters to constrained space. For example, it may optimize the over $\\log(a)$ and $\\log(b)$ so there are no constraints, and then transform them at the end. "
   ]
  },
  {
   "cell_type": "code",
   "execution_count": 4,
   "id": "9e5c4009-92e2-4ae8-89c1-de92592feb8c",
   "metadata": {},
   "outputs": [],
   "source": [
    "def guide():\n",
    "    a = pyro.param(\"a\", torch.tensor(1.),  constraint=constraints.positive)\n",
    "    b = pyro.param(\"b\", torch.tensor(1.),  constraint=constraints.positive)\n",
    "    \n",
    "    p = pyro.sample('p', dist.Beta(a,b))\n",
    "    return p "
   ]
  },
  {
   "cell_type": "code",
   "execution_count": 5,
   "id": "7f50679b-03e6-499c-a139-39013056998e",
   "metadata": {},
   "outputs": [
    {
     "data": {
      "text/plain": [
       "Text(0.5, 0, 'Iteration')"
      ]
     },
     "execution_count": 5,
     "metadata": {},
     "output_type": "execute_result"
    },
    {
     "data": {
      "image/png": "[encoded data removed]",
      "text/plain": [
       "<Figure size 432x288 with 1 Axes>"
      ]
     },
     "metadata": {
      "needs_background": "light"
     },
     "output_type": "display_data"
    }
   ],
   "source": [
    "pyro.clear_param_store()\n",
    "svi = pyro.infer.SVI(model=BetaBernoulli,\n",
    "                     guide=guide,\n",
    "                     optim=pyro.optim.Adam({\"lr\": 0.1}),\n",
    "                     loss=pyro.infer.Trace_ELBO())\n",
    "\n",
    "ELBO = [] \n",
    "num_steps = 1000\n",
    "for t in range(num_steps):\n",
    "     ELBO.append(svi.step())\n",
    "        \n",
    "plt.plot(ELBO)\n",
    "plt.ylabel(\"Estimated ELBO\")\n",
    "plt.xlabel(\"Iteration\")"
   ]
  },
  {
   "cell_type": "markdown",
   "id": "96ecd70b",
   "metadata": {},
   "source": [
    "The following code plots our approximate posterior by simulating from the variational approximation and fitting a kernel density function (we could have also done this by plotting the beta pdf, but more generally you do not know the marginals, so in many cases one needs to do this). "
   ]
  },
  {
   "cell_type": "code",
   "execution_count": 6,
   "id": "35a4bf88-a95f-456a-b016-966f34c59fa8",
   "metadata": {},
   "outputs": [
    {
     "data": {
      "text/plain": [
       "<AxesSubplot:ylabel='Density'>"
      ]
     },
     "execution_count": 6,
     "metadata": {},
     "output_type": "execute_result"
    },
    {
     "data": {
      "image/png": "[encoded data removed]",
      "text/plain": [
       "<Figure size 432x288 with 1 Axes>"
      ]
     },
     "metadata": {
      "needs_background": "light"
     },
     "output_type": "display_data"
    }
   ],
   "source": [
    "import torch as t\n",
    "from seaborn import kdeplot as kde \n",
    "\n",
    "vals = t.tensor([guide().item() for k in range(5000)]).numpy()\n",
    "kde(x = vals)"
   ]
  },
  {
   "cell_type": "markdown",
   "id": "6cd20025",
   "metadata": {},
   "source": [
    "Pyro actually has an MCMC engine as well! It has the same state-of-the-art implementation of the Hamiltonian Monte Carlo No-U-Turn sampler as **Stan**. Run the code below to approximate the posterior distribution with MCMC.  "
   ]
  },
  {
   "cell_type": "code",
   "execution_count": 7,
   "id": "352cbeb9-2fed-4c2a-aa03-247ad9d126b0",
   "metadata": {},
   "outputs": [
    {
     "name": "stderr",
     "output_type": "stream",
     "text": [
      "Warmup:   0%|          | 0/5500 [00:00, ?it/s]/Users/rob/opt/anaconda3/lib/python3.7/site-packages/pyro/poutine/subsample_messenger.py:58: TracerWarning: torch.tensor results are registered as constants in the trace. You can safely ignore this warning if you use this function to create tensors out of constant variables that would be the same every time you call this function. In any other case, this might cause the trace to be incorrect.\n",
      "  result = torch.tensor(0., device=self.device)\n",
      "Sample: 100%|██████████| 5500/5500 [00:16, 338.27it/s, step size=8.80e-01, acc. prob=0.946]\n"
     ]
    }
   ],
   "source": [
    "mySampler = pyro.infer.MCMC(\n",
    "        kernel = pyro.infer.NUTS(model=BetaBernoulli, jit_compile=True),\n",
    "        num_samples=5000,\n",
    "        warmup_steps=500,\n",
    "        num_chains=1)\n",
    "\n",
    "mySampler.run()"
   ]
  },
  {
   "cell_type": "markdown",
   "id": "f34cfe20-a7fc-410f-bc24-0a8fc7209040",
   "metadata": {},
   "source": [
    "After running MCMC, we can call `.summary()` on the sampler to obtain information about the parameters. We also see the effective sample size, as well as the Gelman-Rubin diagnostic `r_hat`. "
   ]
  },
  {
   "cell_type": "code",
   "execution_count": 8,
   "id": "85477cef-f281-4edd-83db-77febec462eb",
   "metadata": {},
   "outputs": [
    {
     "name": "stdout",
     "output_type": "stream",
     "text": [
      "\n",
      "                mean       std    median      5.0%     95.0%     n_eff     r_hat\n",
      "         p      0.61      0.05      0.61      0.53      0.68   2228.89      1.00\n",
      "\n",
      "Number of divergences: 0\n"
     ]
    }
   ],
   "source": [
    "mySampler.summary()"
   ]
  },
  {
   "cell_type": "code",
   "execution_count": 9,
   "id": "da333613-595b-4abb-9433-347d7bab0195",
   "metadata": {},
   "outputs": [
    {
     "data": {
      "text/plain": [
       "<AxesSubplot:ylabel='Density'>"
      ]
     },
     "execution_count": 9,
     "metadata": {},
     "output_type": "execute_result"
    },
    {
     "data": {
      "image/png": "[encoded data removed]",
      "text/plain": [
       "<Figure size 432x288 with 1 Axes>"
      ]
     },
     "metadata": {
      "needs_background": "light"
     },
     "output_type": "display_data"
    }
   ],
   "source": [
    "x = mySampler.get_samples()['p'].numpy()\n",
    "kde(x)"
   ]
  },
  {
   "cell_type": "markdown",
   "id": "de447537-a5ff-440a-b741-a50864ade66e",
   "metadata": {},
   "source": [
    "Note that both MCMC and VI give roughly the same answer! That is neat, but remember (1) this is a simple 1D example, and (2) we know that our variational family (guide) contains the true posterior."
   ]
  },
  {
   "cell_type": "markdown",
   "id": "f01e49fb-75f0-462d-abfd-1e858f95588d",
   "metadata": {},
   "source": [
    "#### Autoguide\n",
    "\n",
    "Generally, we may have a complicated model that we don't want to spend the effort crafting a guide for piece by piece. Fortunately, `Pyro` provides off-the-shelf variational approximations in the `autoguide` module. \n",
    "\n",
    "Below we tell `Pyro` we want a variational approximation of our model `BetaBernoulli` that is a multivariate normal with diagonal covariance matrix (i.e., independent normals). However, because this is a one-dimensional example, this is the same as saying we want to just have a 1D ${\\cal N}(\\mu, \\sigma^2)$ approximation.  \n",
    "\n",
    "You may recall however that the variable $p$ needs lie in the interval $(0,1)$, and clearly a normal distribution goes outside that interval. The good news is, `Autoguide` automatically reparametrizes (transforms) everything behind the scenes, so it fits a normal distribution in unconstrained space, and then transforms it to $(0,1)$. "
   ]
  },
  {
   "cell_type": "code",
   "execution_count": 10,
   "id": "e40a897c-6052-4890-b26c-631eb0f86a2c",
   "metadata": {},
   "outputs": [],
   "source": [
    "from pyro.infer.autoguide import AutoDiagonalNormal\n",
    "\n",
    "myAutoGuide = AutoDiagonalNormal(BetaBernoulli)"
   ]
  },
  {
   "cell_type": "code",
   "execution_count": 11,
   "id": "6c8b55de-469b-4d40-85d8-0231e41db60d",
   "metadata": {},
   "outputs": [
    {
     "data": {
      "text/plain": [
       "Text(0.5, 0, 'Iteration')"
      ]
     },
     "execution_count": 11,
     "metadata": {},
     "output_type": "execute_result"
    },
    {
     "data": {
      "image/png": "[encoded data removed]",
      "text/plain": [
       "<Figure size 432x288 with 1 Axes>"
      ]
     },
     "metadata": {
      "needs_background": "light"
     },
     "output_type": "display_data"
    }
   ],
   "source": [
    "pyro.clear_param_store()\n",
    "svi = pyro.infer.SVI(model=BetaBernoulli,\n",
    "                     guide=myAutoGuide,\n",
    "                     optim=pyro.optim.Adam({\"lr\": 0.01}),\n",
    "                     loss=pyro.infer.Trace_ELBO())\n",
    "\n",
    "ELBO = [] \n",
    "num_steps = 1000\n",
    "for t in range(num_steps):\n",
    "     ELBO.append(svi.step())\n",
    "        \n",
    "plt.plot(ELBO)\n",
    "plt.ylabel(\"Estimated ELBO\")\n",
    "plt.xlabel(\"Iteration\")"
   ]
  },
  {
   "cell_type": "code",
   "execution_count": 12,
   "id": "86c134e7-0818-4c5e-8546-7f3c2df4617e",
   "metadata": {},
   "outputs": [
    {
     "data": {
      "text/plain": [
       "<AxesSubplot:ylabel='Density'>"
      ]
     },
     "execution_count": 12,
     "metadata": {},
     "output_type": "execute_result"
    },
    {
     "data": {
      "image/png": "[encoded data removed]",
      "text/plain": [
       "<Figure size 432x288 with 1 Axes>"
      ]
     },
     "metadata": {
      "needs_background": "light"
     },
     "output_type": "display_data"
    }
   ],
   "source": [
    "import torch as t\n",
    "from seaborn import kdeplot as kde \n",
    "\n",
    "vals = t.tensor([myAutoGuide()[\"p\"].item() for k in range(5000)]).numpy()\n",
    "kde(x = vals)"
   ]
  },
  {
   "cell_type": "markdown",
   "id": "6681180e-28c8-42a9-a01c-d435021d6cc7",
   "metadata": {},
   "source": [
    "### Other AutoGuides"
   ]
  },
  {
   "cell_type": "markdown",
   "id": "2b2f94c5",
   "metadata": {},
   "source": [
    "### 2. Bayesian Linear Regression featuring Shrinkage Priors\n",
    "\n",
    "In the next example, we will do Bayesian Linear Regression with two different priors. "
   ]
  },
  {
   "cell_type": "code",
   "execution_count": 13,
   "id": "6e15aff1",
   "metadata": {},
   "outputs": [
    {
     "data": {
      "text/plain": [
       "torch.Size([100, 1])"
      ]
     },
     "execution_count": 13,
     "metadata": {},
     "output_type": "execute_result"
    }
   ],
   "source": [
    "import numpy as np\n",
    "import torch as t\n",
    "import torch \n",
    "\n",
    "\n",
    "#-------- we will change this in the exercise ---\n",
    "d=100 # number of parameters\n",
    "n_samples = 100 # number of samples\n",
    "#-----------------------------------------------\n",
    "\n",
    "beta = t.zeros(d)\n",
    "\n",
    "for i in range(d):\n",
    "    if i < d/2:\n",
    "        if np.random.rand()<.5:\n",
    "            beta[i] = 5 + torch.randn(1).reshape(-1,1)\n",
    "        else: \n",
    "            beta[i] = -5 + torch.randn(1).reshape(-1,1)\n",
    "    else: \n",
    "        beta[i] = 0\n",
    "\n",
    "\n",
    "X = t.randn([n_samples,d])\n",
    "y_obs = X @ beta.reshape(-1,1) +  0.5 * t.randn(n_samples,1)\n",
    "\n",
    "y_obs.shape\n",
    "\n"
   ]
  },
  {
   "cell_type": "markdown",
   "id": "12038c14",
   "metadata": {},
   "source": [
    "The following code defines the Bayesian Linear Regression model.\n",
    "\n",
    "$$\\beta \\sim_{\\rm iid} {\\cal N}(0, 10^2) $$\n",
    "\n",
    "$$\\sigma^2 \\sim {\\rm InverseGamma}(0.1,0.1)$$\n",
    "\n",
    "$$y_i | \\beta, \\sigma^2 \\sim {\\cal N}(\\beta^\\top {\\bf x}_k, \\sigma^2)$$"
   ]
  },
  {
   "cell_type": "code",
   "execution_count": 14,
   "id": "dbe547d9",
   "metadata": {},
   "outputs": [],
   "source": [
    "import pyro\n",
    "from pyro.distributions import Normal\n",
    "from pyro import sample\n",
    "import pyro.distributions as dist\n",
    "\n",
    "def LR():   \n",
    "    # ---- p(theta) -----------------------\n",
    "    beta = sample('beta', Normal(loc=0. , scale=10.).expand([d]).to_event(1) )\n",
    "    sigma_sq = sample('sigma_sq', dist.InverseGamma(.1,.1))\n",
    " \n",
    "    # ---- p(y|theta) ---------------------\n",
    "    with pyro.plate(\"data\", X.shape[0]):\n",
    "        y = pyro.sample('y', Normal(X @ beta.reshape(-1,1), t.sqrt(sigma_sq)).to_event(1), obs = y_obs)\n",
    "    \n",
    "    return y"
   ]
  },
  {
   "cell_type": "markdown",
   "id": "0d2891f9-6b81-480b-8c25-fe72a14ec14d",
   "metadata": {},
   "source": [
    "As the model is more sophisticated and we do not wish to go to the effort of crafting a guide, we can use an \"off the shelf\" `AutoGuide` that fits a multivariate normal. "
   ]
  },
  {
   "cell_type": "code",
   "execution_count": 15,
   "id": "23412a7a-a058-4e6e-b013-8a5052a4994c",
   "metadata": {},
   "outputs": [
    {
     "name": "stdout",
     "output_type": "stream",
     "text": [
      "0 1093.88\n",
      "250 993.49\n",
      "500 957.6\n",
      "750 879.38\n",
      "1000 834.18\n",
      "1250 803.74\n",
      "1500 789.23\n",
      "1750 767.76\n",
      "2000 731.52\n",
      "2250 692.86\n",
      "2500 669.57\n",
      "2750 657.27\n",
      "3000 631.49\n",
      "3250 607.38\n",
      "3500 602.58\n",
      "3750 590.15\n",
      "4000 593.4\n",
      "4250 571.58\n",
      "4500 576.04\n",
      "4750 577.53\n",
      "5000 577.43\n",
      "5250 565.42\n",
      "5500 565.96\n",
      "5750 566.99\n",
      "6000 558.22\n",
      "6250 573.35\n",
      "6500 556.48\n",
      "6750 564.27\n",
      "7000 553.37\n",
      "7250 559.26\n",
      "7500 560.0\n",
      "7750 564.82\n",
      "8000 547.85\n",
      "8250 561.31\n",
      "8500 551.63\n",
      "8750 555.76\n",
      "9000 551.26\n",
      "9250 554.2\n",
      "9500 546.67\n",
      "9750 548.38\n"
     ]
    },
    {
     "data": {
      "text/plain": [
       "[<matplotlib.lines.Line2D at 0x7ffdf2cb56d0>]"
      ]
     },
     "execution_count": 15,
     "metadata": {},
     "output_type": "execute_result"
    },
    {
     "data": {
      "image/png": "[encoded data removed]",
      "text/plain": [
       "<Figure size 432x288 with 1 Axes>"
      ]
     },
     "metadata": {
      "needs_background": "light"
     },
     "output_type": "display_data"
    }
   ],
   "source": [
    "guide = pyro.infer.autoguide.AutoMultivariateNormal(LR)\n",
    "\n",
    "pyro.clear_param_store()\n",
    "svi = pyro.infer.SVI(model=LR,\n",
    "                     guide=guide,\n",
    "                     optim=pyro.optim.Adam({\"lr\": 1e-3}),\n",
    "                     loss=pyro.infer.Trace_ELBO())\n",
    "\n",
    "ELBO = [] \n",
    "num_steps = 10000\n",
    "for s in range(num_steps):\n",
    "     ELBO.append(svi.step())\n",
    "     if s % 250 == 0: print(s, round(ELBO[-1],2))  \n",
    "        \n",
    "plt.plot(ELBO)        "
   ]
  },
  {
   "cell_type": "markdown",
   "id": "6215e74d-37d7-4dd4-86e7-b1d45d70b6b7",
   "metadata": {},
   "source": [
    "The code below will plot the median (red) and 95% credible intervals (blue) of the approximate posterior (i.e., the variational approximation). The true parameters that generated the data will be plotted as black stars. "
   ]
  },
  {
   "cell_type": "code",
   "execution_count": 16,
   "id": "4b56fc13-af97-47c7-8443-3a0a561c3320",
   "metadata": {},
   "outputs": [
    {
     "data": {
      "text/plain": [
       "[<matplotlib.lines.Line2D at 0x7ffdf31390d0>]"
      ]
     },
     "execution_count": 16,
     "metadata": {},
     "output_type": "execute_result"
    },
    {
     "data": {
      "image/png": "[encoded data removed]",
      "text/plain": [
       "<Figure size 432x288 with 1 Axes>"
      ]
     },
     "metadata": {
      "needs_background": "light"
     },
     "output_type": "display_data"
    }
   ],
   "source": [
    "l = guide.quantiles([0.025])['beta'][0].numpy()\n",
    "m = guide.quantiles([0.5])['beta'][0].numpy()\n",
    "u = guide.quantiles([0.975])['beta'][0].numpy()\n",
    "\n",
    "plt.plot(l, 'b.', m, 'r.', u, 'b.')\n",
    "plt.plot(beta.numpy(), 'k*')"
   ]
  },
  {
   "cell_type": "markdown",
   "id": "a5a47dad-f413-497d-baac-42ecc14b5c33",
   "metadata": {},
   "source": [
    "Not too bad! However, you will have noticed that the parameter estimates are all over the place. This is unsurprising as we have a lot of parameters relative to data.  "
   ]
  },
  {
   "cell_type": "markdown",
   "id": "f46edaaf-3cbf-4041-af7c-4ba5871bd79f",
   "metadata": {},
   "source": [
    "### Horseshoe Prior\n",
    "\n",
    "In settings where there are a lot of parameters and not much data, it is advantageous to use \n",
    "\n",
    "The **Horseshoe Prior** is a prior that encourages this behaviour. It is specially designed to shrink the posterior of any parameters that are small toward zero, while simultaneously allowing larger parameters to be unaffected. See [this paper](http://proceedings.mlr.press/v5/carvalho09a/carvalho09a.pdf) if you are interested to learn more about this magical prior.\n",
    "\n",
    "The model in generative form is: \n",
    "\n",
    "$$\\tau \\sim {\\rm HalfCauchy}(1)$$ \n",
    "$$\\lambda_i \\sim_{\\rm iid} {\\rm HalfCauchy}(1), \\quad i = 1,\\ldots, d.$$ \n",
    "\n",
    "$$\\beta_j | \\tau, \\lambda_k \\sim_{\\rm ind} {\\cal N}(0, \\tau^2 \\lambda_k^2), \\quad j=1,\\ldots,d. $$\n",
    "\n",
    "$$y_k \\sim_{\\rm ind} {\\cal N}(\\beta^{\\top}\\mathbf{x_k}, \\sigma^2)   , \\quad k=1,\\ldots, N.$$\n",
    "\n",
    "\n",
    "Note that more generally we can pick some other prior for $\\tau$. \n",
    "\n",
    "It is important to note that the above model does not put a prior on $\\sigma^2$. We could if we wanted to, but instead we will simply optimize over $\\sigma^2$ in the **empirical Bayes** fashion. Note that in the code below, we tell `Pyro` that we wish to do this by specifying `sigma` as a `param` and not by giving it a `sample` statement (which would require us to specify a prior for it).  \n",
    "\n",
    "\n",
    "#### Exercise (optional, but fun!): Write the above model as a directed graphical model using Plate Notation. Be sure to include all conditional independences!\n",
    "\n",
    "N.B. *For simplicity, I have not included an intercept term in the model. However, it is easy to add one by adding a column of ones to the matrix $x_{\\rm obs}$ and changing $d$ to $d+1$, but we won't worry about doing that in this tutorial.*\n"
   ]
  },
  {
   "cell_type": "code",
   "execution_count": 17,
   "id": "e9af6d22",
   "metadata": {},
   "outputs": [],
   "source": [
    "def HorseshoeLR():   \n",
    "    # ---- p(theta) -----------------------\n",
    "    tau = pyro.sample('tau', dist.HalfCauchy(scale=1.))\n",
    "    lam = pyro.sample('lambda', dist.HalfCauchy(scale=1.).expand([d]).to_event(1))\n",
    "    \n",
    "    beta = sample('beta', Normal(loc=0. , scale=tau*lam).to_event(1) )\n",
    "    sigma = pyro.param(\"sigma\", torch.tensor(1.),  constraint=dist.constraints.positive)\n",
    " \n",
    "    # ---- p(y|theta) ---------------------\n",
    "    with pyro.plate(\"data\", X.shape[0]):\n",
    "        y = pyro.sample('y', Normal(X @ beta.reshape(-1,1), sigma**2).to_event(1), obs = y_obs)\n",
    "    \n",
    "    return y"
   ]
  },
  {
   "cell_type": "markdown",
   "id": "60e43a12-5975-4c2d-b128-75bbb189686f",
   "metadata": {},
   "source": [
    "Above, you will notice the code uses two new commands: `expand`, and `to_event`. The former just tells `Pyro` to replicate the vector, the latter tells `Pyro` to treat the elements as one object (we need to do this for `autoguide` to work for technical reasons). \n",
    "\n",
    "As we are being empirically Bayesian about $\\sigma^2$, and also because even if we weren't the Horseshoe prior makes a posterior that is highly problematic for HMC (due to funnel-like behaviours), we are going to use Variational Learning to fit out model. \n",
    "\n",
    "In a little bit, you will get to experiment by changing the dimension of the data. We will assume all of our latents (in this case, parameters we are being Bayesian about) can be fit with a variational approximation that is of the form ${\\cal N}(\\mu, {\\rm diag}({\\bf v}) + {\\bf b}{\\bf b}^\\top)$, where ${\\bf b}$ is a $d$-dimensional vector. For further discussion of variational distributions of this form, see the paper by [Ong et al. (2017)](https://www.tandfonline.com/doi/full/10.1080/10618600.2017.1390472).\n",
    "  \n",
    "\n"
   ]
  },
  {
   "cell_type": "code",
   "execution_count": 18,
   "id": "6fb58716",
   "metadata": {},
   "outputs": [
    {
     "name": "stdout",
     "output_type": "stream",
     "text": [
      "0 64696.04\n",
      "500 48265.17\n",
      "1000 35578.67\n",
      "1500 26589.38\n",
      "2000 20258.09\n",
      "2500 14966.48\n",
      "3000 11438.76\n",
      "3500 8465.06\n",
      "4000 6419.49\n",
      "4500 4769.9\n",
      "5000 3746.57\n",
      "5500 2772.56\n",
      "6000 2154.49\n",
      "6500 1635.91\n",
      "7000 1387.35\n",
      "7500 1096.66\n",
      "8000 933.66\n",
      "8500 843.93\n",
      "9000 743.8\n",
      "9500 703.48\n",
      "10000 669.68\n",
      "10500 638.98\n",
      "11000 629.73\n",
      "11500 583.33\n",
      "12000 582.39\n",
      "12500 567.68\n",
      "13000 547.43\n",
      "13500 553.09\n",
      "14000 552.72\n",
      "14500 544.32\n",
      "15000 543.05\n",
      "15500 539.5\n",
      "16000 542.58\n",
      "16500 549.21\n",
      "17000 546.58\n",
      "17500 543.67\n",
      "18000 540.14\n",
      "18500 538.88\n",
      "19000 537.23\n",
      "19500 539.87\n",
      "20000 544.17\n",
      "20500 547.56\n",
      "21000 533.36\n",
      "21500 523.82\n",
      "22000 538.04\n",
      "22500 529.34\n",
      "23000 520.57\n",
      "23500 520.23\n",
      "24000 538.91\n",
      "24500 543.89\n",
      "25000 555.77\n",
      "25500 520.85\n",
      "26000 533.06\n",
      "26500 522.7\n",
      "27000 524.22\n",
      "27500 524.07\n",
      "28000 536.98\n",
      "28500 537.35\n",
      "29000 542.93\n",
      "29500 535.71\n",
      "30000 519.38\n",
      "30500 511.44\n",
      "31000 528.51\n",
      "31500 533.06\n",
      "32000 527.27\n",
      "32500 519.54\n",
      "33000 510.67\n",
      "33500 534.4\n",
      "34000 523.23\n",
      "34500 530.02\n",
      "35000 528.54\n",
      "35500 520.79\n",
      "36000 538.32\n",
      "36500 520.44\n",
      "37000 508.06\n",
      "37500 529.91\n",
      "38000 517.66\n",
      "38500 517.2\n",
      "39000 527.09\n",
      "39500 496.97\n",
      "40000 514.98\n",
      "40500 522.39\n",
      "41000 510.63\n",
      "41500 501.17\n",
      "42000 524.77\n",
      "42500 498.94\n",
      "43000 511.7\n",
      "43500 522.02\n",
      "44000 498.78\n",
      "44500 513.32\n",
      "45000 513.47\n",
      "45500 515.98\n",
      "46000 514.55\n",
      "46500 505.24\n",
      "47000 513.59\n",
      "47500 506.86\n",
      "48000 517.02\n",
      "48500 505.99\n",
      "49000 516.16\n",
      "49500 508.61\n"
     ]
    }
   ],
   "source": [
    "from pyro.infer.autoguide import AutoLowRankMultivariateNormal\n",
    "\n",
    "guideHS = AutoLowRankMultivariateNormal(HorseshoeLR, rank=1)\n",
    "\n",
    "svi = pyro.infer.SVI(model=HorseshoeLR,\n",
    "                     guide=guideHS,\n",
    "                     optim=pyro.optim.Adam({\"lr\": 1e-3}),\n",
    "                     loss=pyro.infer.Trace_ELBO())\n",
    "\n",
    "ELBO = [] \n",
    "num_steps = 50000\n",
    "for t in range(num_steps):\n",
    "     pyro.clear_param_store()\n",
    "     ELBO.append(svi.step())\n",
    "     if t % 500 == 0: print(t, round(ELBO[-1],2))"
   ]
  },
  {
   "cell_type": "code",
   "execution_count": 19,
   "id": "c590a3f9-ef86-439a-b3c0-0b82151d60b8",
   "metadata": {},
   "outputs": [
    {
     "data": {
      "text/plain": [
       "Text(0, 0.5, 'Estimated ELBO')"
      ]
     },
     "execution_count": 19,
     "metadata": {},
     "output_type": "execute_result"
    },
    {
     "data": {
      "image/png": "[encoded data removed]",
      "text/plain": [
       "<Figure size 432x288 with 1 Axes>"
      ]
     },
     "metadata": {
      "needs_background": "light"
     },
     "output_type": "display_data"
    }
   ],
   "source": [
    "plt.plot(ELBO)\n",
    "plt.xlabel(\"Iteration\")\n",
    "plt.ylabel(\"Estimated ELBO\")"
   ]
  },
  {
   "cell_type": "code",
   "execution_count": 36,
   "id": "c90e3c7c-a0af-4a14-bdef-2f797cb59291",
   "metadata": {},
   "outputs": [
    {
     "data": {
      "text/plain": [
       "Text(0.5, 1.0, 'Horseshoe Prior w/VI')"
      ]
     },
     "execution_count": 36,
     "metadata": {},
     "output_type": "execute_result"
    },
    {
     "data": {
      "image/png": "[encoded data removed]",
      "text/plain": [
       "<Figure size 864x576 with 2 Axes>"
      ]
     },
     "metadata": {
      "needs_background": "light"
     },
     "output_type": "display_data"
    }
   ],
   "source": [
    "plt.rcParams['figure.figsize'] = [12, 8]\n",
    "ax1 = plt.subplot(121)\n",
    "\n",
    "l = guide.quantiles([0.025])['beta'][0].numpy()\n",
    "m = guide.quantiles([0.5])['beta'][0].numpy()\n",
    "u = guide.quantiles([0.975])['beta'][0].numpy()\n",
    "\n",
    "plt.plot(l, 'b.', m, 'r.', u, 'b.', markersize=14)\n",
    "\n",
    "plt.plot(beta.numpy(), 'k*', alpha=0.5, markersize=14)\n",
    "plt.title(\"Gaussian Prior w/VI\")\n",
    "ax2 = plt.subplot(122, sharey = ax1)\n",
    "\n",
    "lHS = guideHS.quantiles([0.025])['beta'][0].numpy()\n",
    "mHS = guideHS.quantiles([0.5])['beta'][0].numpy()\n",
    "uHS = guideHS.quantiles([0.975])['beta'][0].numpy()\n",
    "\n",
    "plt.plot(lHS, 'b.', mHS, 'r.', uHS, 'b.', markersize=14)\n",
    "plt.plot(beta.numpy(), 'k*', alpha = 0.5, markersize=14)\n",
    "plt.title(\"Horseshoe Prior w/VI\")\n",
    "\n"
   ]
  },
  {
   "cell_type": "markdown",
   "id": "a850ef46-371e-4d1a-b707-c3b360ada58d",
   "metadata": {},
   "source": [
    "### An Aside: \n",
    "It is worth noting that Pyro has other variational objective functions besides ELBO: For example [Tail-adaptive f-Divergence](https://arxiv.org/pdf/1810.11943.pdf) and the Importance Weighted Variational objective. (I believe doubly reparametrized \"Sticking the Landing\" gradients for the latter are a feature thats coming soon). \n"
   ]
  },
  {
   "cell_type": "markdown",
   "id": "06061e01-c4b3-4d18-8fb2-d5efb1a23d66",
   "metadata": {},
   "source": [
    "### Exercise\n",
    "Investigate the effectiveness of Gaussian Prior vs Horseshoe Prior for different dimensions of data `d` and different number of samples `n_samples`. As Variational Inference/Learning is quite quick, you should be able to do it in high dimensions and with bigger datasets. "
   ]
  },
  {
   "cell_type": "markdown",
   "id": "11583293-7d1d-4d84-af5a-613e4be50236",
   "metadata": {},
   "source": [
    "### 3. A (very) Brief Introduction to `torch.nn.Module` and its use in `Pyro`\n",
    "\n",
    "In `PyTorch`, a very important aspect are `module` objects. A key aspect of `Pyro` is that one can use modules everywhere. This allows for **very flexible** models, and approaches such as amortized inference (using a neural network to determine the variational parameters given the data).\n",
    "\n",
    "However, it suffices to note that a `module` can be anything as simple as an activation function (e.g., `nn.Sigmoid`) , a layer of a neural network (eg., `nn.Linear`, `nn.Conv2D`), or even the composition of other `module` objects (e.g., a whole neural network can be a single `module` object).\n",
    "\n",
    "\n",
    "For those interested in how they are used within `Pyro`, see the online tutorial [Modules in Pyro](http://pyro.ai/examples/modules.html). Though note that this does require a more advanced knowledge of how to create and use `module` objects. \n",
    "\n",
    "Using `module` objects within ones model (e.g., Deep Bernoulli model) or one's variational approximation (e.g., neural nets used in Amortized Inference) is the core of **deep probabalistic programming**.  `Pyro` can also have `module` objects that are fully Bayesian, i.e., have priors on all of their parameters. Another example of how one may use `modules` in the `guide` is through flexible conditionally structured approximations. For example, our posterior approximating variational family may take the form:\n",
    "\n",
    "$${\\bf Z}_1 \\sim {\\cal N}({\\bf \\mu_1}, \\Sigma_1)$$\n",
    "$${\\bf Z}_2 | {\\bf Z}_1 \\sim {\\cal N}(g_{\\xi}({\\bf Z_1}), \\Sigma_2),$$\n",
    "\n",
    "where ${\\bf g}_{\\xi}: \\mathbb{R}^{{\\rm dim}({\\bf Z}_1)} \\rightarrow \\mathbb{R}^{{\\rm dim}({\\bf Z}_2)} $ is a neural network, say. Of course, designing such approximations that optimize well and capture the posterior characteristics of interest is the topic of ongoing research, but `Pyro` in principle can easily implement such things.\n",
    "\n",
    "These **incredible features** are beyond the scope of this tutorial, however, in this section we provide a brief overview of how `module` objects work in base PyTorch. This is also useful to know if you \n",
    "\n",
    "Below is a **very basic** walkthrough of creating a module object and how it can be used. "
   ]
  },
  {
   "cell_type": "code",
   "execution_count": 37,
   "id": "33159f22-f420-4744-8296-7ca588337cc0",
   "metadata": {},
   "outputs": [],
   "source": [
    "import torch \n",
    "import torch.nn as nn "
   ]
  },
  {
   "cell_type": "markdown",
   "id": "229ebbc7-935d-4aba-bfb8-5706d88842f1",
   "metadata": {},
   "source": [
    "Below we create a new `module` type called `Linear` that mimics how `torch.nn.Linear` module works under the hood. "
   ]
  },
  {
   "cell_type": "code",
   "execution_count": 38,
   "id": "71a1a667-dccd-4186-86b5-62cae06ed927",
   "metadata": {},
   "outputs": [],
   "source": [
    "class Linear(nn.Module):\n",
    "    def __init__(self, dim_in, dim_out):\n",
    "        # runs constructor for the class we are inheriting from \n",
    "        super().__init__() \n",
    "        # initialize the weight and bias parameters\n",
    "        self.W = nn.Parameter(torch.randn(dim_out, dim_in))\n",
    "        self.b = nn.Parameter(torch.zeros(dim_out))\n",
    "\n",
    "    def forward(self, X):\n",
    "        return X @ self.W.T + self.b"
   ]
  },
  {
   "cell_type": "markdown",
   "id": "ac970861-3e81-4ea2-a87d-318371e2fc2b",
   "metadata": {},
   "source": [
    "Below, I create a new object `LR` of type `Linear`."
   ]
  },
  {
   "cell_type": "code",
   "execution_count": 39,
   "id": "d199382f-d034-49c2-bc9c-895cf5faed9f",
   "metadata": {},
   "outputs": [],
   "source": [
    "LR = Linear(dim_in=5, dim_out = 1)"
   ]
  },
  {
   "cell_type": "code",
   "execution_count": 40,
   "id": "9bdcc5ad-42b7-49be-b688-e6f034da944c",
   "metadata": {},
   "outputs": [],
   "source": [
    "V = torch.randn(3,5)"
   ]
  },
  {
   "cell_type": "markdown",
   "id": "9bbd9763-2d6f-4218-816a-e86dff62f3da",
   "metadata": {},
   "source": [
    "The `forward` method of a `nn.Module` object is its *default* method. That is, if you call the module as it it  is a function"
   ]
  },
  {
   "cell_type": "code",
   "execution_count": 41,
   "id": "8da60b90-daf9-4c36-b67c-a0889bb5b4ba",
   "metadata": {},
   "outputs": [
    {
     "data": {
      "text/plain": [
       "tensor([[ 1.4408],\n",
       "        [ 1.8738],\n",
       "        [-1.6663]], grad_fn=<AddBackward0>)"
      ]
     },
     "execution_count": 41,
     "metadata": {},
     "output_type": "execute_result"
    }
   ],
   "source": [
    "# these two commands do the same thing \n",
    "LR(V)"
   ]
  },
  {
   "cell_type": "markdown",
   "id": "488941ca-61d4-46c7-bfdc-e56131b0b9f7",
   "metadata": {
    "tags": []
   },
   "source": [
    "Calling `parameters()` will not actually show them, because it is a `generator` object. This just means it is something that can output things when iterated through. "
   ]
  },
  {
   "cell_type": "code",
   "execution_count": 42,
   "id": "681d8562-bc29-4550-8e7d-b7f20ee82f28",
   "metadata": {},
   "outputs": [
    {
     "data": {
      "text/plain": [
       "tensor([[ 1.4408],\n",
       "        [ 1.8738],\n",
       "        [-1.6663]], grad_fn=<AddBackward0>)"
      ]
     },
     "execution_count": 42,
     "metadata": {},
     "output_type": "execute_result"
    }
   ],
   "source": [
    "LR.forward(V)"
   ]
  },
  {
   "cell_type": "code",
   "execution_count": 43,
   "id": "eaffaca3-d024-48cb-bbb9-c842f4d41e3c",
   "metadata": {},
   "outputs": [
    {
     "data": {
      "text/plain": [
       "<generator object Module.parameters at 0x7ffdfd3856d0>"
      ]
     },
     "execution_count": 43,
     "metadata": {},
     "output_type": "execute_result"
    }
   ],
   "source": [
    "LR.parameters()"
   ]
  },
  {
   "cell_type": "markdown",
   "id": "b924808a-5394-42ad-80c3-0d04b181fb1d",
   "metadata": {},
   "source": [
    "We can view all the parameters in a module by iterating through its `parameters()` generator"
   ]
  },
  {
   "cell_type": "code",
   "execution_count": 44,
   "id": "8e54a905-28aa-4d9d-8c72-1c0e5b4db151",
   "metadata": {},
   "outputs": [
    {
     "name": "stdout",
     "output_type": "stream",
     "text": [
      "Parameter containing:\n",
      "tensor([[ 0.0106,  0.3921, -0.0757, -0.9743, -1.8849]], requires_grad=True)\n",
      "Parameter containing:\n",
      "tensor([0.], requires_grad=True)\n"
     ]
    }
   ],
   "source": [
    "for p in LR.parameters():  print(p)"
   ]
  },
  {
   "cell_type": "markdown",
   "id": "8835d55b-4ad8-4f03-bd3f-ed99fb447e3d",
   "metadata": {},
   "source": [
    "We can do the above and also show the names by iterating with the `named_parameters()` generator. Having all parameters contained in a module object makes it easy to pass things to an`optimizer` object (e.g., `torch.optim.adam`. We just need to give it the `parameters` generator upon initialization. It is also easy to tell `Pyro` that all parameters in a module should be part of $\\theta$ in a model or $\\phi$ in the variational approximation that need to be optimized over. "
   ]
  },
  {
   "cell_type": "markdown",
   "id": "01b2c50f-4dd1-42a4-b0fc-fdbafde8b472",
   "metadata": {},
   "source": [
    "Note that by default all parameters in the layer have `requires_grad` set  to true, so PyTorch watches operations made on them for backpropagation. "
   ]
  },
  {
   "cell_type": "code",
   "execution_count": 45,
   "id": "c9d9b30b-cc20-4d32-bf85-b9c0f1cec0f2",
   "metadata": {},
   "outputs": [
    {
     "name": "stdout",
     "output_type": "stream",
     "text": [
      "('W', Parameter containing:\n",
      "tensor([[ 0.0106,  0.3921, -0.0757, -0.9743, -1.8849]], requires_grad=True))\n",
      "('b', Parameter containing:\n",
      "tensor([0.], requires_grad=True))\n"
     ]
    }
   ],
   "source": [
    "for p in LR.named_parameters(): print(p)"
   ]
  },
  {
   "cell_type": "markdown",
   "id": "1bc5ba30-db77-413d-bc9b-699b67954fe5",
   "metadata": {},
   "source": [
    "The purpose of the above was to demonstrate constructing a custom module. As a linear operation is very simple, we could have just done it with `PyTorch`'s built in module. "
   ]
  },
  {
   "cell_type": "code",
   "execution_count": 46,
   "id": "f11796af-6a92-4ec7-8ce9-eacffa8ef7f6",
   "metadata": {
    "tags": []
   },
   "outputs": [],
   "source": [
    "L = torch.nn.modules.Linear(5,1)"
   ]
  },
  {
   "cell_type": "code",
   "execution_count": 47,
   "id": "0a9d8fe9-845c-4e4c-80c0-db1ae886ca65",
   "metadata": {
    "tags": []
   },
   "outputs": [
    {
     "name": "stdout",
     "output_type": "stream",
     "text": [
      "('weight', Parameter containing:\n",
      "tensor([[ 0.2531, -0.1226,  0.0393,  0.3131, -0.0659]], requires_grad=True))\n",
      "('bias', Parameter containing:\n",
      "tensor([-0.2141], requires_grad=True))\n"
     ]
    }
   ],
   "source": [
    "for p in L.named_parameters(): print(p)"
   ]
  },
  {
   "cell_type": "markdown",
   "id": "60b835f4-f6db-42ba-af60-0e34f9e30f8a",
   "metadata": {},
   "source": [
    "Note that `nn.modules.Sigmoid` is a `nn.Module`, as are most activation funcions."
   ]
  },
  {
   "cell_type": "markdown",
   "id": "b95f2e93-4ecc-4a51-ac14-00237ec96866",
   "metadata": {},
   "source": [
    "#### Vectorization\n",
    "While it is very natural to think of a linear module applying the transformation \n",
    "${\\bf y} = \\mathrm{A}{\\bf x} + {\\bf b},$\n",
    "above, we (and in its own linear model `PyTorch`) do not actually do it that way. The reason why is that we want to **vectorize**, that is, to do computations for several vectors of $\\mathbf{x}$ in one go. \n",
    "\n",
    "Tricks like this are very important for speeding up `PyTorch`'s performance when using GPUs (as GPUs can do tensor operations very fast, but other things not so much). \n"
   ]
  },
  {
   "cell_type": "code",
   "execution_count": 48,
   "id": "8f23013c-b1f4-4630-bb8b-2ce447366a4a",
   "metadata": {},
   "outputs": [],
   "source": [
    "import torch as t\n",
    "\n",
    "A = t.tensor([[1,2], [3,4]])\n",
    "X = t.tensor([[1,1], [3,2]])"
   ]
  },
  {
   "cell_type": "code",
   "execution_count": 49,
   "id": "06896e5e-3992-47f0-8a60-c5b174973457",
   "metadata": {},
   "outputs": [
    {
     "name": "stdout",
     "output_type": "stream",
     "text": [
      "tensor([[ 3.,  7.],\n",
      "        [ 7., 17.]])\n"
     ]
    }
   ],
   "source": [
    "# the tedious way \n",
    "\n",
    "h = t.zeros(2,2)\n",
    "\n",
    "for i in [0,1]: \n",
    "    h[i,:] = A @ X[i,:]\n",
    "\n",
    "print(h)"
   ]
  },
  {
   "cell_type": "code",
   "execution_count": 50,
   "id": "ce5415db-d73a-43c0-8f7b-369c6baa5b3b",
   "metadata": {},
   "outputs": [
    {
     "data": {
      "text/plain": [
       "tensor([[ 3,  7],\n",
       "        [ 7, 17]])"
      ]
     },
     "execution_count": 50,
     "metadata": {},
     "output_type": "execute_result"
    }
   ],
   "source": [
    "X @ A.T # the smart way to do the same thing"
   ]
  },
  {
   "cell_type": "markdown",
   "id": "2e7c1ae9-a823-457e-bb3f-acb876318ae1",
   "metadata": {},
   "source": [
    "It should hopefully not surprise you that  using \n",
    "\n"
   ]
  },
  {
   "cell_type": "code",
   "execution_count": 51,
   "id": "794198b1-8ec2-4a57-a776-b97463dc08dc",
   "metadata": {},
   "outputs": [
    {
     "data": {
      "text/plain": [
       "tensor([[ 7,  5],\n",
       "        [15, 11]])"
      ]
     },
     "execution_count": 51,
     "metadata": {},
     "output_type": "execute_result"
    }
   ],
   "source": [
    "A @ X"
   ]
  },
  {
   "cell_type": "markdown",
   "id": "080694fb-bc3a-4637-bede-a04ec7b3640d",
   "metadata": {},
   "source": [
    "does not yield the same answer, as the latter computes a product of two matrices (treats x as a matrix and not as two rows). \n",
    "\n",
    "The advantage of this **vectorization** is that we can compute everything with **one** tensor operation and no for loops, GPUs are very good at such operations!"
   ]
  },
  {
   "cell_type": "markdown",
   "id": "52a77d2c-7f23-4c21-ad18-73f677279d3f",
   "metadata": {},
   "source": [
    "# 4. Pyro Tutorials on Variational Autoencoders\n",
    "\n",
    "Where `Pyro` really shines is implementing sophisticated models with techniques such as **amortized inference**. This is quite advanced. However, above tutorial should make you well equipped to begin to understand some of the more advanced `Pyro` examples. Have a read through the following two examples, and see how much you can now follow! \n",
    "\n",
    "N.B. In the `Pyro` tutorials below, the plate diagram for the VAE has a circle around the parameter vector $\\theta$. If one follows the convention that variables that are random (have a prior) are circled in the plate diagram, then the diagram they have is incorrect. The implemented VAE is not \"fully Bayesian\" with respect to $\\theta$, but simply maximizes the ELBO over the parameter values (recall we discussed why this may be a better choice in the lecture)."
   ]
  },
  {
   "cell_type": "markdown",
   "id": "4c1c2a76-f925-4612-a21b-387a9d28da7c",
   "metadata": {},
   "source": [
    "[Variational Autoencoders Tutorial](https://pyro.ai/examples/vae.html) \n",
    "\n",
    "[Conditional Variational Autoencoders Tutorial](https://pyro.ai/examples/cvae.html)"
   ]
  }
 ],
 "metadata": {
  "kernelspec": {
   "display_name": "Python 3",
   "language": "python",
   "name": "python3"
  },
  "language_info": {
   "codemirror_mode": {
    "name": "ipython",
    "version": 3
   },
   "file_extension": ".py",
   "mimetype": "text/x-python",
   "name": "python",
   "nbconvert_exporter": "python",
   "pygments_lexer": "ipython3",
   "version": "3.7.10"
  }
 },
 "nbformat": 4,
 "nbformat_minor": 5
}
