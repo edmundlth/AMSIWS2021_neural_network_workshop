{
 "cells": [
  {
   "cell_type": "markdown",
   "metadata": {},
   "source": [
    "# Pytorch Tutorial\n",
    "\n",
    "### 4. Saving and Loading Models and Their States\n",
    "\n",
    "- Saving and loading model parameters\n",
    "- Using ```torchvision.models```"
   ]
  },
  {
   "cell_type": "markdown",
   "metadata": {},
   "source": [
    "Setup torch and torchvision."
   ]
  },
  {
   "cell_type": "code",
   "execution_count": null,
   "metadata": {},
   "outputs": [],
   "source": [
    "import torch, torchvision\n",
    "import torch.nn as nn\n",
    "import torch.optim as optim"
   ]
  },
  {
   "cell_type": "markdown",
   "metadata": {},
   "source": [
    "## Using ```torchvision.models```\n",
    "\n",
    "Models provided by ```torchvision.models``` are:\n",
    "- AlexNet\n",
    "- VGG\n",
    "- ResNet\n",
    "- SqueezeNet\n",
    "- DenseNet\n",
    "- Inception v3\n",
    "\n",
    "Refer to the [torchvision documentation](https://pytorch.org/docs/stable/torchvision/models.html) for details.\n",
    "\n",
    "Here we load the AlexNet model structure."
   ]
  },
  {
   "cell_type": "code",
   "execution_count": null,
   "metadata": {},
   "outputs": [],
   "source": [
    "alex = torchvision.models.alexnet()\n",
    "alex"
   ]
  },
  {
   "cell_type": "markdown",
   "metadata": {},
   "source": [
    "Model parameters are initialized randomly."
   ]
  },
  {
   "cell_type": "code",
   "execution_count": null,
   "metadata": {
    "scrolled": true
   },
   "outputs": [],
   "source": [
    "alex.state_dict()"
   ]
  },
  {
   "cell_type": "markdown",
   "metadata": {},
   "source": [
    "We can also load pretrained models with the optional argument ```pretrained=True```."
   ]
  },
  {
   "cell_type": "code",
   "execution_count": null,
   "metadata": {
    "scrolled": true
   },
   "outputs": [],
   "source": [
    "alex_pretrained = torchvision.models.alexnet(pretrained=True)"
   ]
  },
  {
   "cell_type": "code",
   "execution_count": null,
   "metadata": {},
   "outputs": [],
   "source": [
    "alex_pretrained.state_dict()"
   ]
  },
  {
   "cell_type": "markdown",
   "metadata": {},
   "source": [
    "Finetuning pretrained networks can be done by modifying the ```requires_grad``` parameter.\n",
    "\n",
    "Here we switch on the gradients only for the last fully-connected layer."
   ]
  },
  {
   "cell_type": "code",
   "execution_count": null,
   "metadata": {},
   "outputs": [],
   "source": [
    "for param in alex_pretrained.parameters():\n",
    "    param.requires_grad = False\n",
    "\n",
    "# Parameters of newly created modules have requires_grad=True by default\n",
    "alex_pretrained.classifier[6] = nn.Linear(in_features=4096, out_features=1000, bias=True)"
   ]
  },
  {
   "cell_type": "code",
   "execution_count": null,
   "metadata": {},
   "outputs": [],
   "source": [
    "for name, param in alex_pretrained.named_parameters():\n",
    "    print(f'{name: <20}: {param.requires_grad}')"
   ]
  },
  {
   "cell_type": "markdown",
   "metadata": {},
   "source": [
    "## Saving and Loading Parameters\n",
    "\n",
    "Saving the current parameters is implemented internally using pickle.\n",
    "\n",
    "There are two ways:\n",
    "\n",
    "1. **Saving the entire model**\n",
    "\n",
    "    Here we save the model instance itself, including model structure and parameter values. Suitable for later inference after training is done. May be unstable or even break on future releases or in other projects.\n",
    "  \n",
    "\n",
    "2. **Saving only the parameter values** (recommended)\n",
    "\n",
    "    Suitable for resuming training later. You may also save the optimizer state. Also ```state_dict``` is easier to manipulate and load into other models."
   ]
  },
  {
   "cell_type": "code",
   "execution_count": null,
   "metadata": {},
   "outputs": [],
   "source": [
    "model = torchvision.models.alexnet(pretrained=True)\n",
    "optimizer = optim.Adam(model.parameters(), lr=5e-3)"
   ]
  },
  {
   "cell_type": "code",
   "execution_count": null,
   "metadata": {},
   "outputs": [],
   "source": [
    "# Method 1: Saving the entire model\n",
    "PATH = 'alexnet_pretrained_1'\n",
    "torch.save(model, PATH)"
   ]
  },
  {
   "cell_type": "code",
   "execution_count": null,
   "metadata": {},
   "outputs": [],
   "source": [
    "replica = torch.load(PATH)\n",
    "print(type(replica))"
   ]
  },
  {
   "cell_type": "code",
   "execution_count": null,
   "metadata": {},
   "outputs": [],
   "source": [
    "# Method 2: Saving only the parameters\n",
    "PATH = 'alexnet_pretrained_2'\n",
    "\n",
    "state = {\n",
    "    'epoch': 30,\n",
    "    'state_dict': model.state_dict(),\n",
    "    'optimizer': optimizer.state_dict()\n",
    "}\n",
    "\n",
    "torch.save(state, PATH)"
   ]
  },
  {
   "cell_type": "markdown",
   "metadata": {},
   "source": [
    "Load back states to a fresh instance of ```AlexNet``` and ```optim.Adam```."
   ]
  },
  {
   "cell_type": "code",
   "execution_count": null,
   "metadata": {},
   "outputs": [],
   "source": [
    "model = torchvision.models.alexnet()\n",
    "optimizer = optim.Adam(model.parameters())"
   ]
  },
  {
   "cell_type": "code",
   "execution_count": null,
   "metadata": {},
   "outputs": [],
   "source": [
    "old_state = torch.load(PATH)\n",
    "model.load_state_dict(old_state['state_dict'])\n",
    "optimizer.load_state_dict(old_state['optimizer'])"
   ]
  },
  {
   "cell_type": "code",
   "execution_count": null,
   "metadata": {},
   "outputs": [],
   "source": [
    "optimizer.state_dict()['param_groups']"
   ]
  }
 ],
 "metadata": {
  "kernelspec": {
   "display_name": "Python 3",
   "language": "python",
   "name": "python3"
  },
  "language_info": {
   "codemirror_mode": {
    "name": "ipython",
    "version": 3
   },
   "file_extension": ".py",
   "mimetype": "text/x-python",
   "name": "python",
   "nbconvert_exporter": "python",
   "pygments_lexer": "ipython3",
   "version": "3.7.2"
  }
 },
 "nbformat": 4,
 "nbformat_minor": 2
}
